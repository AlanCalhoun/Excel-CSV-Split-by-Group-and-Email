{
 "cells": [
  {
   "cell_type": "code",
   "execution_count": null,
   "metadata": {},
   "outputs": [],
   "source": [
    "#imports\n",
    "import pandas as pd\n",
    "import os\n",
    "from datetime import datetime\n",
    "import win32com.client as win32"
   ]
  },
  {
   "cell_type": "code",
   "execution_count": null,
   "metadata": {},
   "outputs": [],
   "source": [
    "#split file\n",
    "\n",
    "#source file\n",
    "data = 'C:/Users/path to Excel/CSV to split.csv'\n",
    "#destination folder\n",
    "output = 'C:/Users/path to out folder'\n",
    "#column name to group by\n",
    "col_grp = 'column name in Excel/CSV to split by'\n",
    "\n",
    "#get file modified date\n",
    "m_time = os.path.getmtime(data)\n",
    "dt_m = datetime.fromtimestamp(m_time)\n",
    "date_str = dt_m.strftime(\"%m-%d-%Y\")\n",
    "\n",
    "#read file into dataframe. Can be switched to excel pd.read_excel(data)\n",
    "df = pd.read_csv(data)\n",
    "\n",
    "#Split the file based on value in column group\n",
    "split_values = df[col_grp].unique()\n",
    "for value in split_values:\n",
    "    df1 = df[df[col_grp]==value]\n",
    "    #The below line will add the modified date to the file name.\n",
    "    #output_file_name = str(value).replace(\"/\",\"\") + ' Custom text in file name ' +date_str+ '.xlsx'\n",
    "    output_file_name = str(value).replace(\"/\",\"\") + ' Custom text in file name.xlsx'\n",
    "    df1.to_excel(os.path.join(output, output_file_name), index = False)\n",
    "    print(output_file_name+' created in '+output)\n",
    "print('Split Process Completed')"
   ]
  },
  {
   "cell_type": "code",
   "execution_count": null,
   "metadata": {},
   "outputs": [],
   "source": [
    "#get email and file list\n",
    "#this is a seperate Excel file placed in the below folder\n",
    "email_list = pd.read_excel('C:/Users/path to email and file list.xlsx')\n",
    "loc_name = email_list['column name that has file name']\n",
    "emails = email_list['column name that has email address']\n",
    "\n",
    "#loop\n",
    "for i in range(len(emails)):\n",
    "    \n",
    "    location = loc_name[i]\n",
    "    email = emails[i]\n",
    "    \n",
    "    # Open the Outlook\n",
    "    outlook = win32.Dispatch('outlook.application')\n",
    "\n",
    "    # Create the email\n",
    "    mail = outlook.CreateItem(0)\n",
    "\n",
    "    # Set the email subject\n",
    "    mail.Subject = 'Custom email subject text ' + location + ' ' + datetime.now().strftime('%b %#d %Y %H:%M')\n",
    "\n",
    "    # Set the receiver email\n",
    "    mail.To = email\n",
    "\n",
    "    # Write the email content\n",
    "    mail.HTMLBody = r\"\"\"\n",
    "    <p>Hello</p>\n",
    "    <p>Attached is the most current report.</p>\n",
    "    <p>Thanks</p>\n",
    "    <p>The Data Team</p>\n",
    "    <p>(this is an automated email)</p>\n",
    "    \"\"\"\n",
    "\n",
    "    # Add the Excel attachement\n",
    "    mail.Attachments.Add(output + \"/\" + location)\n",
    "\n",
    "    # Send the email\n",
    "    mail.Send()\n",
    "    print('Email sent to ' + email)\n",
    "print('All Emails Processed')"
   ]
  },
  {
   "cell_type": "code",
   "execution_count": null,
   "metadata": {},
   "outputs": [],
   "source": []
  }
 ],
 "metadata": {
  "kernelspec": {
   "display_name": "Python 3",
   "language": "python",
   "name": "python3"
  },
  "language_info": {
   "codemirror_mode": {
    "name": "ipython",
    "version": 3
   },
   "file_extension": ".py",
   "mimetype": "text/x-python",
   "name": "python",
   "nbconvert_exporter": "python",
   "pygments_lexer": "ipython3",
   "version": "3.8.8"
  }
 },
 "nbformat": 4,
 "nbformat_minor": 4
}
